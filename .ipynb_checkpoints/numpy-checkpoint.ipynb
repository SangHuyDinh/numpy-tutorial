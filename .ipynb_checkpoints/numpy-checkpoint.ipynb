{
 "cells": [
  {
   "cell_type": "code",
   "execution_count": 1,
   "metadata": {},
   "outputs": [],
   "source": [
    "# from IPython.core.display import display, HTML\n",
    "# display(HTML(\"<style>.container { width:100% !important; }</style>\"))"
   ]
  },
  {
   "cell_type": "markdown",
   "metadata": {},
   "source": [
    "<img alt=\"NumPy\" src=\"https://cdn.rawgit.com/numpy/numpy/master/branding/icons/numpylogo.svg\" height=\"60\">\n",
    "# NumPy = Numerical Python\n",
    "\n",
    "NumPy is the fundamental package needed for scientific computing with Python.\n",
    "\n",
    "\n",
    "It provides:\n",
    "\n",
    "- a powerful N-dimensional array object\n",
    "- sophisticated (broadcasting) functions\n",
    "- tools for integrating C/C++ and Fortran code\n",
    "- useful linear algebra, Fourier transform, and random number capabilities\n",
    "\n",
    "**Numpy** is large topic. In this tutorial, we cover:\n",
    "\n",
    "- Fast vectorized array operations for data manipulation, cleaning, subsetting, filtering, transformation, and any other kinds of computation.\n",
    "- Popular methods on array object like sorting, unique, and set operations\n",
    "- Efficient descriptive statistic, and summarizing data\n",
    "- Merging and joining together datasets\n",
    "- Expressing conditional logic as array expression instead of loops\n",
    "- Group-wise data manipulation (aggregation, transformation, function application)"
   ]
  },
  {
   "cell_type": "code",
   "execution_count": 1,
   "metadata": {},
   "outputs": [],
   "source": [
    "import numpy as np"
   ]
  },
  {
   "cell_type": "markdown",
   "metadata": {},
   "source": [
    "# The Numpy ndarray: A Multidimensional Array Object\n",
    "\n",
    "The core functionality of NumPy is it's \"ndarray\", for n-dimensional array, data structure. These arrays are strided views on memory. In contrast to Python's built-in list data structure (which, despite the name, is a dynamic array), these arrays are homogeneously typed: all elements of a single array must be of the same type.\n",
    "\n",
    "Such arrays can also be views into memory buffers allocated by C/C++, Cython, and Fortran extensions to the CPython interpreter without the need to copy data around, giving a degree of compatibility with existing numerical libraries. This functionality is exploited by the SciPy package, which wraps a number of such libraries (notably BLAS and LAPACK). NumPy has built-in support for memory-mapped ndarrays.\n",
    "\n",
    "## NumPy Array's Attributes\n",
    "\n",
    "On a structural level, an ndarray is basically nothing but pointers. It’s a combination of a memory address, a data type, a shape and strides:\n",
    "\n",
    "* The ***data*** pointer indicates the memory address of the first byte in the array,\n",
    "* The data type or ***dtype*** pointer describes the kind of elements that are contained within the array,\n",
    "* The ***shape*** indicates the shape of the array, and\n",
    "* The ***strides*** are the number of bytes that should be skipped in memory to go to the next element. If your strides are (10,1), you need to proceed one byte to get to the next column and 10 bytes to locate the next row.\n",
    "\n",
    "In other words, an ndarray contains information about the raw data, how to locate an element and how to interpret an element."
   ]
  },
  {
   "cell_type": "code",
   "execution_count": 3,
   "metadata": {},
   "outputs": [
    {
     "name": "stdout",
     "output_type": "stream",
     "text": [
      "[[1 2 3 4]\n",
      " [5 6 7 8]]\n",
      "<memory at 0x109be2480>\n",
      "(2, 4)\n",
      "int64\n",
      "(32, 8)\n"
     ]
    }
   ],
   "source": [
    "# Init a numpy array\n",
    "array = np.array([[1, 2, 3, 4], [5, 6, 7, 8]])\n",
    "\n",
    "# Print out the array it self\n",
    "print(array)\n",
    "\n",
    "# Print out memory address\n",
    "print(array.data)\n",
    "\n",
    "# Print out the shape of `array`\n",
    "print(array.shape)\n",
    "\n",
    "# Print out the data type of `array`\n",
    "print(array.dtype)\n",
    "\n",
    "# Print out the stride of `array`\n",
    "print(array.strides)"
   ]
  },
  {
   "cell_type": "markdown",
   "metadata": {},
   "source": [
    "The **ndarray** Object have a lot more Attributes, this is a quick summary for some of them. You can look it up on the [Numpy Documentation](/numpybook.pdf) for more details\n",
    "![Attributes of the ndarray](http://imageshack.com/a/img921/7005/weC72W.png)"
   ]
  },
  {
   "cell_type": "markdown",
   "metadata": {},
   "source": [
    "## What advantages do NumPy arrays offer over (nested) Python lists?\n",
    "\n",
    "Python’s lists are efficient general-purpose containers. They support (fairly) efficient insertion, deletion, appending, and concatenation, and Python’s list comprehensions make them easy to construct and manipulate. However, they have certain limitations: they don’t support “vectorized” operations like element-wise addition and multiplication, and the fact that they can contain objects of differing types mean that Python must store type information for every element, and must execute type dispatching code when operating on each element. This also means that very few list operations can be carried out by efficient C loops – each iteration would require type checks and other Python API bookkeeping."
   ]
  },
  {
   "cell_type": "markdown",
   "metadata": {},
   "source": [
    "## Numpy Array (ndarry) can have multi-dimension"
   ]
  },
  {
   "cell_type": "markdown",
   "metadata": {},
   "source": [
    "![Array](http://community.datacamp.com.s3.amazonaws.com/community/production/ckeditor_assets/pictures/332/content_arrays-axes.png)"
   ]
  },
  {
   "cell_type": "markdown",
   "metadata": {},
   "source": [
    "The array that you see above is, as its name already suggested, a 2-dimensional array: you have rows and columns. The rows are indicated as the “axis 0”, while the columns are the “axis 1”. The number of the axis goes up accordingly with the number of the dimensions: in 3-D arrays, of which you have also seen an example in the previous code chunk, you’ll have an additional “axis 2”. Note that these axes are only valid for arrays that have at least 2 dimensions, as there is no point in having this for 1-D arrays;\n",
    "\n",
    "These axes will come in handy later when you’re manipulating the shape of your NumPy arrays."
   ]
  },
  {
   "cell_type": "markdown",
   "metadata": {},
   "source": [
    "# Creating NumPy Arrays\n",
    "\n",
    "To make a numpy array, you can just use the np.array() function. All you need to do is pass a list to it and optionally, you can also specify the data type of the data. Here is a quick references about all the **data type (dtype)** that Numpy Array supported:\n",
    "![Data Types](http://imageshack.com/a/img923/8066/tL9lVj.png)\n",
    "\n",
    "There’s no need to go and memorize these NumPy data types if you’re a new user; But you do have to know and care what data you’re dealing with. The data types are there when you need more control over how your data is stored in memory and on disk. Especially in cases where you’re working with large data, it’s good that you know to control the storage type."
   ]
  },
  {
   "cell_type": "code",
   "execution_count": 4,
   "metadata": {},
   "outputs": [
    {
     "name": "stdout",
     "output_type": "stream",
     "text": [
      "[[1 2 3 4]\n",
      " [5 6 7 8]]\n"
     ]
    }
   ],
   "source": [
    "array = np.array([[1, 2, 3, 4], [5, 6, 7, 8]], dtype=np.int64)\n",
    "print(array)"
   ]
  },
  {
   "cell_type": "markdown",
   "metadata": {},
   "source": [
    "## Make “Empty” NumPy Array\n",
    "What people often mean when they say that they are creating “empty” arrays is that they want to make use of initial placeholders, which you can fill up afterwards. You can initialize arrays with ones or zeros, but you can also make arrays that get filled up with evenly spaced values, constant or random values.\n",
    "\n",
    "However, you can still make a totally empty array, too.\n",
    "\n",
    "Luckily for us, there are quite a lot of functions to make"
   ]
  },
  {
   "cell_type": "code",
   "execution_count": 5,
   "metadata": {},
   "outputs": [
    {
     "name": "stdout",
     "output_type": "stream",
     "text": [
      "Array of ones:\n",
      "[[1. 1. 1. 1.]\n",
      " [1. 1. 1. 1.]\n",
      " [1. 1. 1. 1.]]\n",
      "\n",
      "Array of zeros:\n",
      "[[[0 0 0 0]\n",
      "  [0 0 0 0]\n",
      "  [0 0 0 0]]\n",
      "\n",
      " [[0 0 0 0]\n",
      "  [0 0 0 0]\n",
      "  [0 0 0 0]]]\n",
      "\n",
      "Array with random values:\n",
      "[[0.43888425 0.77584004]\n",
      " [0.77743033 0.87178469]]\n",
      "\n",
      "Empty Array:\n",
      "[[0. 0.]\n",
      " [0. 0.]\n",
      " [0. 0.]]\n",
      "\n",
      "Full array of 7:\n",
      "[[7 7]\n",
      " [7 7]]\n",
      "\n",
      "Array of evenly-spaced values:\n",
      "[10 15 20]\n",
      "\n",
      "Array of evenly-spaced values:\n",
      "[0.   0.25 0.5  0.75 1.   1.25 1.5  1.75 2.  ]\n",
      "\n",
      "Identity matrix:\n",
      "[[1. 0.]\n",
      " [0. 1.]]\n",
      "\n",
      "Upper-triangular matrix:\n",
      "[[1 2 3 4]\n",
      " [0 6 7 8]]\n",
      "\n",
      "Lower-triangular matrix:\n",
      "[[1 0 0 0]\n",
      " [5 6 0 0]]\n",
      "\n",
      "Diagonal matrix:\n",
      "[[1 0 0 0]\n",
      " [0 4 0 0]\n",
      " [0 0 5 0]\n",
      " [0 0 0 7]]\n"
     ]
    }
   ],
   "source": [
    "# Create an array of ones\n",
    "print(\"Array of ones:\")\n",
    "print(np.ones((3, 4)))\n",
    "\n",
    "# Create an array of zeros\n",
    "print(\"\\nArray of zeros:\")\n",
    "print(np.zeros((2, 3, 4), dtype=np.int16))\n",
    "\n",
    "# Create an array with random values\n",
    "print(\"\\nArray with random values:\")\n",
    "print(np.random.random((2, 2)))\n",
    "\n",
    "# Create an empty array\n",
    "print(\"\\nEmpty Array:\")\n",
    "print(np.empty((3, 2)))\n",
    "\n",
    "# Create a full array\n",
    "print(\"\\nFull array of 7:\")\n",
    "print(np.full((2, 2), 7))\n",
    "\n",
    "# Create an array of evenly-spaced values\n",
    "print(\"\\nArray of evenly-spaced values:\")\n",
    "print(np.arange(10, 25, 5))\n",
    "\n",
    "# Create an array of evenly-spaced values\n",
    "print(\"\\nArray of evenly-spaced values:\")\n",
    "print(np.linspace(0, 2, 9))\n",
    "\n",
    "# Create an dentity matrix\n",
    "print(\"\\nIdentity matrix:\")\n",
    "print(np.eye(2))\n",
    "\n",
    "# Create a upper-triangular and lower-triangular matrix\n",
    "print(\"\\nUpper-triangular matrix:\")\n",
    "print(np.triu(array, 0))\n",
    "print(\"\\nLower-triangular matrix:\")\n",
    "print(np.tril(array, 0))\n",
    "\n",
    "# Create a diagonal matrix\n",
    "print(\"\\nDiagonal matrix:\")\n",
    "print(np.diag([1, 4, 5, 7], 0))"
   ]
  },
  {
   "cell_type": "markdown",
   "metadata": {},
   "source": [
    "* For some, such as **np.ones()**, **np.random.random()**, **np.empty()**, **np.full()** or **np.zeros()** the only thing that you need to do in order to make arrays with ones or zeros is pass the shape of the array that you want to make. As an option to **np.ones()** and **np.zeros()**, you can also specify the data type. In case of **np.full()**, you also have to specify the constant value that you want to insert into the array.\n",
    "* With **np.linspace()** and **np.arange()** you can make arrays of evenly spaced values. The difference between these two functions is that the last value of the three that are passed in the code chunk above designates either the step value for **np.linspace()** or number of samples for **np.arange()**. What happens in the first is that you want, for example, an array of 9 values that lie between 0 and 2. For the latter, you specify that you want an array to start at 10 and per steps of 5, generate values for the array that you’re creating.\n",
    "\n",
    "NumPy also allows you to create **Triangular Matrix** and **Diagonal Matrix** with **np.triu()**, **np.tril()** and **np.diag()**. It's also support you to create an identity array or matrix with **np.eye()** and **np.identity()**. An **identity matrix** is a **square matrix** of which **all elements in the principal diagonal are ones and all other elements are zeros**. When you multiply a matrix with an identity matrix, the given matrix is left unchanged.\n",
    "\n",
    "In other words, if you multiply a matrix by an identity matrix, the resulting product will be the same matrix again by the standard conventions of matrix multiplication. Identity matrices are useful when you’re starting to do matrix calculations: they can simplify mathematical equations, which makes your computations more efficient and robust."
   ]
  },
  {
   "cell_type": "markdown",
   "metadata": {},
   "source": [
    "## Load NumPy Arrays From Text\n",
    "\n",
    "Creating arrays with the help of initial placeholders or with some example data is a great way of getting started with numpy. But when you want to get started with data analysis, you’ll need to load data from text files.\n",
    "\n",
    "With that what you have seen up until now, you won’t really be able to do much. Make use of some specific functions to load data from your files, such as **loadtxt()** or **genfromtxt()**.\n",
    "\n",
    "Let’s say you have the following text files with data:"
   ]
  },
  {
   "cell_type": "code",
   "execution_count": 6,
   "metadata": {},
   "outputs": [],
   "source": [
    "# This is your data in the text file\n",
    "# Value1  Value2  Value3\n",
    "# 0.2536  0.1008  0.3857\n",
    "# 0.4839  0.4536  0.3561\n",
    "# 0.1292  0.6875  0.5929\n",
    "# 0.1781  0.3049  0.8928\n",
    "# 0.6253  0.3486  0.8791\n",
    "\n",
    "# Import your data\n",
    "x, y, z = np.loadtxt('data.txt', skiprows=1, unpack=True)"
   ]
  },
  {
   "cell_type": "markdown",
   "metadata": {},
   "source": [
    "In the code above, you use **loadtxt()** to load the data in your environment. You see that the first argument that both functions take is the text file **data.txt**. Next, there are some specific arguments for each: in the first statement, you skip the first row and you return the columns as separate arrays with **unpack=TRUE**. This means that the values in column Value1 will be put in x, and so on.\n",
    "\n",
    "Note that, in case you have comma-delimited data or if you want to specify the data type, there are also the arguments delimiter and dtype that you can add to the **loadtxt()** arguments.\n",
    "\n",
    "That’s easy and straightforward, right?\n",
    "\n",
    "Let’s take a look at your second file with data:"
   ]
  },
  {
   "cell_type": "code",
   "execution_count": 7,
   "metadata": {},
   "outputs": [],
   "source": [
    "# Your data in the text file\n",
    "# Value1  Value2  Value3\n",
    "# 0.4839  0.4536  0.3561\n",
    "# 0.1292  0.6875  MISSING\n",
    "# 0.1781  0.3049  0.8928\n",
    "# MISSING 0.5801  0.2038\n",
    "# 0.5993  0.4357  0.7410\n",
    "\n",
    "my_array = np.genfromtxt('data2.txt', skip_header=1, filling_values=-999)"
   ]
  },
  {
   "cell_type": "markdown",
   "metadata": {},
   "source": [
    "You see that here, you resort to **genfromtxt()** to load the data. In this case, you have to handle some missing values that are indicated by the **'MISSING'** strings. Since the **genfromtxt()** function converts character strings in numeric columns to nan, you can convert these values to other ones by specifying the **filling_values** argument. In this case, you choose to set the value of these missing values to **-999**.\n",
    "\n",
    "If, by any chance, you have values that don’t get converted to nan by **genfromtxt()**, there’s always the **missing_values** argument that allows you to specify what the missing values of your data exactly are.\n",
    "\n",
    "But this is not all. You can check out [this page](https://docs.scipy.org/doc/numpy/reference/generated/numpy.genfromtxt.html#numpy.genfromtxt) to see what other arugments you can add to import your data successfully.\n",
    "\n",
    "You now might wonder what the difference between these two functions really is.\n",
    "\n",
    "The examples indicated this maybe implicitly, but, in general, **genfromtxt()** gives you a little bit more flexibility, it’s also more robust than **loadtxt()**.\n",
    "\n",
    "Let’s make this difference a little bit more practical: the latter, **loadtxt()**, only works when each row in the text file has the same number of values; So when you want to handle missing values easily, you’ll typically find it easier to use **genfromtxt()**.\n",
    "\n",
    "But this is definitely not the only reason. A brief look on the number of arguments that **genfromtxt()** has to offer will teach you that there is really a lot more things that you can specify in your import, such as the maximum number of rows to read or the option to automatically strip white spaces from variables."
   ]
  },
  {
   "cell_type": "markdown",
   "metadata": {},
   "source": [
    "# Save NumPy Arrays\n",
    "Once you have done everything that you need to do with your arrays, you can also save them to a file. If you want to save the array to a text file, you can use the **savetxt()** function to do this:"
   ]
  },
  {
   "cell_type": "code",
   "execution_count": 8,
   "metadata": {},
   "outputs": [],
   "source": [
    "x = np.arange(0.0, 5.0, 1.0)\n",
    "np.savetxt('test.out', x, delimiter=',')"
   ]
  },
  {
   "cell_type": "markdown",
   "metadata": {},
   "source": [
    "There are, of course, other ways to save your NumPy arrays to text files. Check out the functions in the table below if you want to get your data to binary files or archives:\n",
    "\n",
    "![table](http://imageshack.com/a/img921/1218/EskRQ6.png)\n",
    "\n",
    "For more information or examples of how you can use the above functions to save your data, go [here](https://docs.scipy.org/doc/numpy/reference/routines.io.html) or make use of one of the help functions that NumPy has to offer to get to know more instantly!"
   ]
  },
  {
   "cell_type": "markdown",
   "metadata": {},
   "source": [
    "***It’s time to look more closely into the second key element that really defines the NumPy library: scientific computing.***"
   ]
  },
  {
   "cell_type": "markdown",
   "metadata": {},
   "source": [
    "# NumPy Broadcasting\n",
    "\n",
    "Before you go deeper into scientific computing, it might be a good idea to first go over what broadcasting exactly is: it’s a mechanism that allows NumPy to work with arrays of different shapes when you’re performing arithmetic operations.\n",
    "\n",
    "To put it in a more practical context, you often have an array that’s somewhat larger and another one that’s somewhat smaller. Ideally, you want to use the smaller array multiple times to perform an operation (such as a sum, multiplication, etc.) on the larger array.\n",
    "\n",
    "To do this, you use the broadcasting mechanism.\n",
    "\n",
    "However, there are some rules if you want to use it. And, before you already sigh, you’ll see that these “rules” are very simple and kind of straightforward!\n",
    "\n",
    "* First off, to make sure that the broadcasting is successful, the dimensions of your arrays need to be compatible. Two dimensions are compatible when they are equal. Consider the following example:"
   ]
  },
  {
   "cell_type": "code",
   "execution_count": 11,
   "metadata": {},
   "outputs": [
    {
     "name": "stdout",
     "output_type": "stream",
     "text": [
      "(3, 4)\n",
      "(3, 4)\n"
     ]
    },
    {
     "data": {
      "text/plain": [
       "array([[1.01433626, 1.77174442, 1.7002809 , 1.79372806],\n",
       "       [1.08911401, 1.61332863, 1.61679625, 1.2248661 ],\n",
       "       [1.17994564, 1.47129745, 1.96216757, 1.42707921]])"
      ]
     },
     "execution_count": 11,
     "metadata": {},
     "output_type": "execute_result"
    }
   ],
   "source": [
    "# Initialize `x`\n",
    "x = np.ones((3, 4))\n",
    "\n",
    "# Check shape of `x`\n",
    "print(x.shape)\n",
    "\n",
    "# Initialize `y`\n",
    "y = np.random.random((3, 4))\n",
    "\n",
    "# Check shape of `y`\n",
    "print(y.shape)\n",
    "\n",
    "# Add `x` and `y`\n",
    "x + y"
   ]
  },
  {
   "cell_type": "markdown",
   "metadata": {},
   "source": [
    "* Two dimensions are also compatible when one of them is 1"
   ]
  },
  {
   "cell_type": "code",
   "execution_count": 12,
   "metadata": {},
   "outputs": [
    {
     "name": "stdout",
     "output_type": "stream",
     "text": [
      "(3, 4)\n",
      "(4,)\n"
     ]
    },
    {
     "data": {
      "text/plain": [
       "array([[ 1.,  0., -1., -2.],\n",
       "       [ 1.,  0., -1., -2.],\n",
       "       [ 1.,  0., -1., -2.]])"
      ]
     },
     "execution_count": 12,
     "metadata": {},
     "output_type": "execute_result"
    }
   ],
   "source": [
    "# Initialize `x`\n",
    "x = np.ones((3, 4))\n",
    "\n",
    "# Check shape of `x`\n",
    "print(x.shape)\n",
    "\n",
    "# Initialize `y`\n",
    "y = np.arange(4)\n",
    "\n",
    "# Check shape of `y`\n",
    "print(y.shape)\n",
    "\n",
    "# Subtract `x` and `y`\n",
    "x - y"
   ]
  },
  {
   "cell_type": "markdown",
   "metadata": {},
   "source": [
    "Note that if the dimensions are not compatible, you will get a **ValueError**.\n",
    "\n",
    "Tip: also test what the size of the resulting array is after you have done the computations! You’ll see that the size is actually the maximum size along each dimension of the input arrays.\n",
    "\n",
    "In other words, you see that the result of **x-y** gives an array with shape **(3,4)**: **y** had a shape of **(4,)** and **x** had a shape of **(3,4)**. The maximum size along each dimension of **x** and **y** is taken to make up the shape of the new, resulting array.\n",
    "\n",
    "* Lastly, the arrays can only be broadcast together if they are compatible in all dimensions. Consider the following example:"
   ]
  },
  {
   "cell_type": "code",
   "execution_count": 13,
   "metadata": {},
   "outputs": [
    {
     "data": {
      "text/plain": [
       "array([[[1.95584927, 1.95094872, 1.6504094 , 1.05675735],\n",
       "        [1.95584927, 1.95094872, 1.6504094 , 1.05675735],\n",
       "        [1.95584927, 1.95094872, 1.6504094 , 1.05675735]],\n",
       "\n",
       "       [[1.85756902, 1.68972985, 1.90238513, 1.20926822],\n",
       "        [1.85756902, 1.68972985, 1.90238513, 1.20926822],\n",
       "        [1.85756902, 1.68972985, 1.90238513, 1.20926822]],\n",
       "\n",
       "       [[1.73866335, 1.48523277, 1.78204057, 1.75594851],\n",
       "        [1.73866335, 1.48523277, 1.78204057, 1.75594851],\n",
       "        [1.73866335, 1.48523277, 1.78204057, 1.75594851]],\n",
       "\n",
       "       [[1.44778623, 1.91736723, 1.95546229, 1.29265414],\n",
       "        [1.44778623, 1.91736723, 1.95546229, 1.29265414],\n",
       "        [1.44778623, 1.91736723, 1.95546229, 1.29265414]],\n",
       "\n",
       "       [[1.86789134, 1.19682028, 1.00636423, 1.88640073],\n",
       "        [1.86789134, 1.19682028, 1.00636423, 1.88640073],\n",
       "        [1.86789134, 1.19682028, 1.00636423, 1.88640073]]])"
      ]
     },
     "execution_count": 13,
     "metadata": {},
     "output_type": "execute_result"
    }
   ],
   "source": [
    "# Initialize `x` and `y`\n",
    "x = np.ones((3, 4))\n",
    "y = np.random.random((5, 1, 4))\n",
    "\n",
    "# Add `x` and `y`\n",
    "x + y"
   ]
  },
  {
   "cell_type": "markdown",
   "metadata": {},
   "source": [
    "You see that, even though **x** and **y** seem to have somewhat different dimensions, the two can be added together.\n",
    "\n",
    "That is because they are compatible in all dimensions:\n",
    "\n",
    "* Array **x** has dimensions 3 X 4,\n",
    "* Array **y** has dimensions 5 X 1 X 4\n",
    "\n",
    "Since you have seen above that dimensions are also compatible if one of them is equal to 1, you see that these two arrays are indeed a good candidate for broadcasting!\n",
    "\n",
    "What you will notice is that in the dimension where **y** has size 1 and the other array has a size greater than 1 (that is, 3), the first array behaves as if it were copied along that dimension.\n",
    "\n",
    "Note that the shape of the resulting array will again be the maximum size along each dimension of x and y: the dimension of the result will be (5,3,4)\n",
    "\n",
    "Here is a beautiful sumary of the broadcasting mechanism in Numpy:\n",
    "\n",
    "![broadcasting](http://imageshack.com/a/img922/9647/RQWV3r.png)\n",
    "\n",
    "In short, if you want to make use of broadcasting, you will rely a lot on the shape and dimensions of the arrays with which you’re working.\n",
    "\n",
    "***But what if the dimensions are not compatible?***\n",
    "\n",
    "***What if they are not equal or if one of them is not equal to 1?***\n",
    "\n",
    "You’ll have to fix this by manipulating your array! You’ll see how to do this in one of the next sections."
   ]
  },
  {
   "cell_type": "markdown",
   "metadata": {},
   "source": [
    "# Array Mathematics\n",
    "\n",
    "You’ve seen that broadcasting is handy when you’re doing arithmetic operations. In this section, you’ll discover some of the functions that you can use to do mathematics with arrays.\n",
    "\n",
    "As such, it probably won’t surprise you that you can just use **+, -, *, / or %** to **add, subtract, multiply, divide or calculate the remainder** of two (or more) arrays. However, a big part of why NumPy is so handy, is because it also has functions to do this. The equivalent functions of the operations that you have seen just now are, respectively, **np.add(), np.subtract(), np.multiply(), np.divide()** and **np.remainder().**\n",
    "\n",
    "You can also easily do exponentiation and taking the square root of your arrays with **np.exp()** and **np.sqrt()**, or calculate the sines or cosines of your array with **np.sin()** and **np.cos()**. Lastly, its’ also useful to mention that there’s also a way for you to calculate the natural logarithm with **np.log()** or calculate the dot product by applying the **dot()** to your array."
   ]
  },
  {
   "cell_type": "code",
   "execution_count": 14,
   "metadata": {},
   "outputs": [
    {
     "data": {
      "text/plain": [
       "array([[[0.04415073, 0.04905128, 0.3495906 , 0.03512499],\n",
       "        [0.04415073, 0.04905128, 0.3495906 , 0.03512499],\n",
       "        [0.04415073, 0.04905128, 0.3495906 , 0.03512499]],\n",
       "\n",
       "       [[0.14243098, 0.31027015, 0.09761487, 0.16292711],\n",
       "        [0.14243098, 0.31027015, 0.09761487, 0.16292711],\n",
       "        [0.14243098, 0.31027015, 0.09761487, 0.16292711]],\n",
       "\n",
       "       [[0.26133665, 0.02953447, 0.21795943, 0.24405149],\n",
       "        [0.26133665, 0.02953447, 0.21795943, 0.24405149],\n",
       "        [0.26133665, 0.02953447, 0.21795943, 0.24405149]],\n",
       "\n",
       "       [[0.10442755, 0.08263277, 0.04453771, 0.12203758],\n",
       "        [0.10442755, 0.08263277, 0.04453771, 0.12203758],\n",
       "        [0.10442755, 0.08263277, 0.04453771, 0.12203758]],\n",
       "\n",
       "       [[0.13210866, 0.01589861, 0.00081569, 0.11359927],\n",
       "        [0.13210866, 0.01589861, 0.00081569, 0.11359927],\n",
       "        [0.13210866, 0.01589861, 0.00081569, 0.11359927]]])"
      ]
     },
     "execution_count": 14,
     "metadata": {},
     "output_type": "execute_result"
    }
   ],
   "source": [
    "# Add `x` and `y`\n",
    "np.add(x, y)\n",
    "\n",
    "# Subtract `x` and `y`\n",
    "np.subtract(x, y)\n",
    "\n",
    "# Multiply `x` and `y`\n",
    "np.multiply(x, y)\n",
    "\n",
    "# Divide `x` and `y`\n",
    "np.divide(x, y)\n",
    "\n",
    "# Calculate the remainder of `x` and `y`\n",
    "np.remainder(x, y)\n",
    "\n",
    "# Calculate dot product of 'x' and 'y'\n",
    "# print(np.dot(x,y))"
   ]
  },
  {
   "cell_type": "markdown",
   "metadata": {},
   "source": [
    "But there is more. Check out this small list of aggregate functions:\n",
    "\n",
    "![fucntion list](http://imageshack.com/a/img921/6279/4Msd1s.png)\n",
    "\n",
    "Besides all of these functions, you might also find it useful to know that there are mechanisms that allow you to compare array elements. For example, if you want to check whether the elements of two arrays are the same, you might use the **==** operator. To check whether the array elements are smaller or bigger, you use the **<** or **>** operators.\n",
    "\n",
    "This all seems quite straightforward, yes?\n",
    "\n",
    "However, you can also compare entire arrays with each other! In this case, you use the **np.array_equal()** function. Just pass in the two arrays that you want to compare with each other and you’re done.\n",
    "\n",
    "Note that, besides comparing, you can also perform logical operations on your arrays. You can start with **np.logical_or(), np.logical_not()** and **np.logical_and()**. This basically works like your typical OR, NOT and AND logical operations;\n",
    "\n",
    "In the simplest example, you use OR to see whether your elements are the same (for example, 1), or if one of the two array elements is 1. If both of them are 0, you’ll return **FALSE**. You would use **AND** to see whether your second element is also 1 and NOT to see if the second element differs from 1."
   ]
  },
  {
   "cell_type": "code",
   "execution_count": 15,
   "metadata": {},
   "outputs": [
    {
     "name": "stdout",
     "output_type": "stream",
     "text": [
      "[False False False False]\n",
      "[ True  True  True  True]\n",
      "[False False  True  True]\n"
     ]
    }
   ],
   "source": [
    "a = np.array([True, True, False, False])\n",
    "b = np.array([False, False, True, True])\n",
    "\n",
    "# `a` AND `b`\n",
    "print(np.logical_and(a, b))\n",
    "\n",
    "# `a` OR `b`\n",
    "print(np.logical_or(a, b))\n",
    "\n",
    "# `a` NOT `b`\n",
    "print(np.logical_not(a, b))"
   ]
  },
  {
   "cell_type": "markdown",
   "metadata": {},
   "source": [
    "# Manipulate NumPy Array\n",
    "Performing mathematical operations on your arrays is one of the things that you’ll be doing, but probably most importantly to make this and the broadcasting work is to know how to manipulate your arrays.\n",
    "\n",
    "Below are some of the most common manipulations that you’ll be doing.\n",
    "## Subset, Slice, And Index Arrays\n",
    "\n",
    "Besides mathematical operations, you might also consider taking just a part of the original array (or the resulting array) or just some array elements to use in further analysis or other operations. In such case, you will need to subset, slice and/or index your arrays.\n",
    "\n",
    "These operations are very similar to when you perform them on Python lists."
   ]
  },
  {
   "cell_type": "code",
   "execution_count": 48,
   "metadata": {},
   "outputs": [],
   "source": [
    "my_array = np.arange(1,5)\n",
    "my_2d_array = np.arange(1,9).reshape(2,4)\n",
    "my_3d_array = np.arange(1,17).reshape(2,2,4)"
   ]
  },
  {
   "cell_type": "code",
   "execution_count": 49,
   "metadata": {},
   "outputs": [
    {
     "name": "stdout",
     "output_type": "stream",
     "text": [
      "2\n",
      "7\n",
      "7\n",
      "15\n"
     ]
    }
   ],
   "source": [
    "# Select the element at the 1st index\n",
    "print(my_array[1])\n",
    "\n",
    "# Select the element at row 1 column 2\n",
    "print(my_2d_array[1][2])\n",
    "\n",
    "# Select the element at row 1 column 2\n",
    "print(my_2d_array[1, 2])\n",
    "\n",
    "# Select the element at row 1, column 2 and\n",
    "print(my_3d_array[1, 1, 2])"
   ]
  },
  {
   "cell_type": "markdown",
   "metadata": {},
   "source": [
    "Something a little bit more advanced than subsetting, if you will, is slicing. Here, you consider not just particular values of your arrays, but you go to the level of rows and columns."
   ]
  },
  {
   "cell_type": "code",
   "execution_count": 50,
   "metadata": {},
   "outputs": [
    {
     "name": "stdout",
     "output_type": "stream",
     "text": [
      "[1 2]\n",
      "[2 6]\n",
      "[[ 9 10 11 12]\n",
      " [13 14 15 16]]\n"
     ]
    }
   ],
   "source": [
    "# Select items at index 0 and 1\n",
    "print(my_array[0:2])\n",
    "\n",
    "# Select items at row 0 and 1, column 1\n",
    "print(my_2d_array[0:2, 1])\n",
    "\n",
    "# Select items at row 1\n",
    "# This is the same as saying `my_3d_array[1,:,:]\n",
    "print(my_3d_array[1, ...])"
   ]
  },
  {
   "cell_type": "markdown",
   "metadata": {},
   "source": [
    "You’ll see that, in essence, the following holds:"
   ]
  },
  {
   "cell_type": "code",
   "execution_count": null,
   "metadata": {},
   "outputs": [],
   "source": [
    "a[start:end]  # items start through the end (but the end is not included!)\n",
    "a[start:]  # items start through the rest of the array\n",
    "a[:end]  # items from the beginning through the end (but the end is not included!)"
   ]
  },
  {
   "cell_type": "markdown",
   "metadata": {},
   "source": [
    "Here is a beautiful sumary of the slicing in Numpy:\n",
    "\n",
    "![slicing](https://i.imgur.com/ZiLIrsM.png)"
   ]
  },
  {
   "cell_type": "markdown",
   "metadata": {},
   "source": [
    "## Common Two-Dimensional Slicing for Machine Learning\n",
    "\n",
    "### Split Input and Output Features\n",
    "\n",
    "It is common to split your loaded data into input variables **x** and the output variable **y**.\n",
    "\n",
    "We can do this by slicing all rows and all columns up to, but before the last column, then separately indexing the last column.\n",
    "\n",
    "For the input features, we can select all rows and all columns except the last one by specifying **‘:’** for in the rows index, and **:-1** in the columns index.\n",
    "\n",
    "For the output column, we can select all rows again using **‘:’** and index just the last column by specifying the **-1** index.\n",
    "\n",
    "Putting all of this together, we can separate a 3-column 2D dataset into input and output data as follows:"
   ]
  },
  {
   "cell_type": "code",
   "execution_count": 51,
   "metadata": {},
   "outputs": [
    {
     "name": "stdout",
     "output_type": "stream",
     "text": [
      "Input Features:\n",
      " [[11 22]\n",
      " [44 55]\n",
      " [77 88]]\n",
      "Output: [33 66 99]\n"
     ]
    }
   ],
   "source": [
    "# define array\n",
    "data = np.array([[11, 22, 33], [44, 55, 66], [77, 88, 99]])\n",
    "# separate data\n",
    "x, y = data[:, :-1], data[:, -1]\n",
    "print(\"Input Features:\\n\", x)\n",
    "print(\"Output:\", y)"
   ]
  },
  {
   "cell_type": "markdown",
   "metadata": {},
   "source": [
    "### Split Train and Test Rows\n",
    "It is common to split a loaded dataset into separate train and test sets.\n",
    "\n",
    "This is a splitting of rows where some portion will be used to train the model and the remaining portion will be used to estimate the skill of the trained model.\n",
    "\n",
    "This would involve slicing all columns by specifying **‘:’** in the second dimension index. The training dataset would be all rows from the beginning to the split point.\n",
    "\n",
    "The test dataset would be all rows starting from the split point to the end of the dimension.\n",
    "\n",
    "Putting all of this together, we can split the dataset at the contrived split point of 2."
   ]
  },
  {
   "cell_type": "code",
   "execution_count": 52,
   "metadata": {},
   "outputs": [
    {
     "name": "stdout",
     "output_type": "stream",
     "text": [
      "Train data:\n",
      " [[11 22 33]\n",
      " [44 55 66]]\n",
      "Test data:\n",
      " [[77 88 99]]\n"
     ]
    }
   ],
   "source": [
    "# define array\n",
    "data = np.array([[11, 22, 33], [44, 55, 66], [77, 88, 99]])\n",
    "# separate data\n",
    "split = 2\n",
    "train, test = data[:split, :], data[split:, :]\n",
    "print(\"Train data:\\n\", train)\n",
    "print(\"Test data:\\n\", test)"
   ]
  },
  {
   "cell_type": "markdown",
   "metadata": {},
   "source": [
    "## Reshaping And Resizing Arrays\n",
    "You might have read in the broadcasting section that the dimensions of your arrays need to be compatible if you want them to be good candidates for arithmetic operations. Well, this is where you get the answer! It is resize your array. You will then return a new array that has the shape that you passed to the **np.resize()** function. If you pass your original array together with the new dimensions, and if that new array is larger than the one that you originally had, the new array will be filled with copies of the original array that are repeated as many times as is needed.\n",
    "\n",
    "However, if you just apply **np.resize()** to the array and you pass the new shape to it, the new array will be filled with zeros."
   ]
  },
  {
   "cell_type": "code",
   "execution_count": 70,
   "metadata": {},
   "outputs": [],
   "source": [
    "x = np.array([[[1, 1, 1, 1],\n",
    "              [1, 1, 1, 1],\n",
    "              [1, 1, 1, 1],\n",
    "              [0, 0, 0, 0],\n",
    "              [0, 0, 0, 0],\n",
    "              [0, 0, 0, 0]],\n",
    "             [[1, 1, 1, 1],\n",
    "              [1, 1, 1, 1],\n",
    "              [1, 1, 1, 1],\n",
    "              [0, 0, 0, 0],\n",
    "              [0, 0, 0, 0],\n",
    "              [0, 0, 0, 0]]])"
   ]
  },
  {
   "cell_type": "code",
   "execution_count": 71,
   "metadata": {},
   "outputs": [
    {
     "name": "stdout",
     "output_type": "stream",
     "text": [
      "(2, 6, 4)\n",
      "[[1 1 1 1]\n",
      " [1 1 1 1]\n",
      " [1 1 1 1]\n",
      " [0 0 0 0]\n",
      " [0 0 0 0]\n",
      " [0 0 0 0]]\n",
      "[[1 1 1 1]\n",
      " [1 1 1 1]\n",
      " [1 1 1 1]\n",
      " [0 0 0 0]\n",
      " [0 0 0 0]\n",
      " [0 0 0 0]]\n"
     ]
    }
   ],
   "source": [
    "# Print the shape of `x`\n",
    "print(x.shape)\n",
    "\n",
    "# Resize `x` to ((6,4))\n",
    "print(np.resize(x, (6, 4)))\n",
    "\n",
    "# Try out this as well\n",
    "x.resize((6, 4))\n",
    "\n",
    "# Print out `x`\n",
    "print(x)"
   ]
  },
  {
   "cell_type": "markdown",
   "metadata": {},
   "source": [
    "Besides resizing, you can also reshape your array. This means that you give a new shape to an array without changing its data. The key to reshaping is to make sure that the total size of the new array is unchanged. If you take the example of array **x** that was used above, which has a size of 3 X 4 or 12, you have to make sure that the new array also has a size of 12.\n",
    "\n",
    "Psst… If you want to calculate the size of an array with code, make sure to use the **size** attribute: **x.size** or **x.reshape((2,6)).size**:"
   ]
  },
  {
   "cell_type": "code",
   "execution_count": 107,
   "metadata": {},
   "outputs": [
    {
     "name": "stdout",
     "output_type": "stream",
     "text": [
      "12\n",
      "[[1. 1. 1. 1. 1. 1.]\n",
      " [1. 1. 1. 1. 1. 1.]]\n",
      "[1. 1. 1. 1. 1. 1. 1. 1. 1. 1. 1. 1.]\n"
     ]
    }
   ],
   "source": [
    "x = np.ones((3, 4))\n",
    "\n",
    "# Print the size of `x` to see what's possible\n",
    "print(x.size)\n",
    "\n",
    "# Reshape `x` to (2,6)\n",
    "print(x.reshape((2, 6)))\n",
    "\n",
    "# Flatten `x`\n",
    "z = x.ravel()\n",
    "\n",
    "# Print `z`\n",
    "print(z)"
   ]
  },
  {
   "cell_type": "markdown",
   "metadata": {},
   "source": [
    "Here also is a beautiful sumary of the reshape method in Numpy:\n",
    "\n",
    "![reshape](https://i.imgur.com/ZrEEtZe.png)\n",
    "\n",
    "If all else fails, you can also append an array to your original one or insert or delete array elements to make sure that your dimensions fit with the other array that you want to use for your computations.\n",
    "\n",
    "Another operation that you might keep handy when you’re changing the shape of arrays is **ravel()**. This function allows you to flatten your arrays. This means that if you ever have 2D, 3D or n-D arrays, you can just use this function to flatten it all out to a 1-D array."
   ]
  },
  {
   "cell_type": "markdown",
   "metadata": {},
   "source": [
    "### Reshape Array for Machine Learning\n",
    "\n",
    "For example, some libraries, such as scikit-learn, may require that a one-dimensional array of output variables (y) be shaped as a two-dimensional array with one column and outcomes for each column.\n",
    "\n",
    "Some algorithms, like the Long Short-Term Memory recurrent neural network in Keras, require input to be specified as a three-dimensional array comprised of samples, timesteps, and features.\n",
    "\n",
    "#### Reshape 1D to 2D Array\n",
    "\n",
    "It is common to need to reshape a one-dimensional array into a two-dimensional array with one column and multiple arrays."
   ]
  },
  {
   "cell_type": "code",
   "execution_count": 112,
   "metadata": {},
   "outputs": [
    {
     "name": "stdout",
     "output_type": "stream",
     "text": [
      "(5,)\n",
      "(5, 1)\n"
     ]
    }
   ],
   "source": [
    "# define array\n",
    "data = np.array([11, 22, 33, 44, 55])\n",
    "print(data.shape)\n",
    "# reshape\n",
    "data = data.reshape((data.shape[0], 1))\n",
    "print(data.shape)"
   ]
  },
  {
   "cell_type": "markdown",
   "metadata": {},
   "source": [
    "#### Reshape 2D to 3D Array\n",
    "\n",
    "It is common to need to reshape two-dimensional data where each row represents a sequence into a three-dimensional array for algorithms that expect multiple samples of one or more time steps and one or more features.\n",
    "\n",
    "A good example is the **LSTM recurrent neural network** model in the Keras deep learning library.\n",
    "\n",
    "The reshape function can be used directly, specifying the new dimensionality. This is clear with an example where each sequence has multiple time steps with one observation (feature) at each time step.\n",
    "\n",
    "We can use the sizes in the shape attribute on the array to specify the number of samples (rows) and columns (time steps) and fix the number of features at 1."
   ]
  },
  {
   "cell_type": "code",
   "execution_count": 108,
   "metadata": {},
   "outputs": [
    {
     "name": "stdout",
     "output_type": "stream",
     "text": [
      "(3, 2)\n",
      "(3, 2, 1)\n"
     ]
    }
   ],
   "source": [
    "# list of data\n",
    "data = [[11, 22], [33, 44], [55, 66]]\n",
    "# array of data\n",
    "data = np.array(data)\n",
    "print(data.shape)\n",
    "# reshape\n",
    "data = data.reshape((data.shape[0], data.shape[1], 1))\n",
    "print(data.shape)"
   ]
  },
  {
   "cell_type": "markdown",
   "metadata": {},
   "source": [
    "#### Transpose NumPy Arrays\n",
    "\n",
    "What transposing your arrays actually does is permuting the dimensions of it. Or, in other words, you switch around the shape of the array. "
   ]
  },
  {
   "cell_type": "code",
   "execution_count": 76,
   "metadata": {},
   "outputs": [
    {
     "name": "stdout",
     "output_type": "stream",
     "text": [
      "[[1 2 3 4]\n",
      " [5 6 7 8]]\n",
      "[[1 5]\n",
      " [2 6]\n",
      " [3 7]\n",
      " [4 8]]\n",
      "[[1 5]\n",
      " [2 6]\n",
      " [3 7]\n",
      " [4 8]]\n"
     ]
    }
   ],
   "source": [
    "# Print `my_2d_array`\n",
    "print(my_2d_array)\n",
    "# Transpose `my_2d_array`\n",
    "print(np.transpose(my_2d_array))\n",
    "# Or use `T` to transpose `my_2d_array`\n",
    "print(my_2d_array.T)"
   ]
  },
  {
   "cell_type": "markdown",
   "metadata": {},
   "source": [
    "### Additional Shape Method\n"
   ]
  },
  {
   "cell_type": "markdown",
   "metadata": {},
   "source": [
    "#### Append Arrays\n",
    "When you append arrays to your original array, they are “glued” to the end of that original array. If you want to make sure that what you append does not come at the end of the array, you might consider inserting it. Go to the next section if you want to know more.\n",
    "\n",
    "Appending is a pretty easy thing to do thanks to the NumPy library; You can just make use of the **np.append()**"
   ]
  },
  {
   "cell_type": "code",
   "execution_count": 77,
   "metadata": {},
   "outputs": [
    {
     "name": "stdout",
     "output_type": "stream",
     "text": [
      "[ 1  2  3  4  7  8  9 10]\n",
      "[[1 2 3 4 7]\n",
      " [5 6 7 8 8]]\n"
     ]
    }
   ],
   "source": [
    "# Append a 1D array to your `my_array`\n",
    "new_array = np.append(my_array, [7, 8, 9, 10])\n",
    "\n",
    "# Print `new_array`\n",
    "print(new_array)\n",
    "\n",
    "# Append an extra column to your `my_2d_array`\n",
    "new_2d_array = np.append(my_2d_array, [[7], [8]], axis=1)\n",
    "\n",
    "# Print `new_2d_array`\n",
    "print(new_2d_array)"
   ]
  },
  {
   "cell_type": "markdown",
   "metadata": {},
   "source": [
    "Note how, when you append an extra column to **my_2d_array**, the **axis** is specified. Remember that axis 1 indicates the columns, while axis 0 indicates the rows in 2-D arrays."
   ]
  },
  {
   "cell_type": "markdown",
   "metadata": {},
   "source": [
    "#### Insert And Delete Array Elements\n",
    "Next to appending, you can also insert and delete array elements. As you might have guessed by now, the functions that will allow you to do these operations are **np.insert()** and **np.delete()**:"
   ]
  },
  {
   "cell_type": "code",
   "execution_count": 78,
   "metadata": {},
   "outputs": [
    {
     "data": {
      "text/plain": [
       "array([1, 3, 4])"
      ]
     },
     "execution_count": 78,
     "metadata": {},
     "output_type": "execute_result"
    }
   ],
   "source": [
    "# Insert `5` at index 1\n",
    "np.insert(my_array, 1, 5)\n",
    "\n",
    "# Delete the value at index 1\n",
    "np.delete(my_array, [1])"
   ]
  },
  {
   "cell_type": "markdown",
   "metadata": {},
   "source": [
    "#### How To Join And Split Arrays\n",
    "You can also ‘merge’ or join your arrays. There are a bunch of functions that you can use for that purpose and most of them are listed below.\n",
    "\n",
    "Try them out, but also make sure to test out what the shape of the arrays is in the IPython shell. The arrays that have been loaded are **x, my_array, my_resized_array** and **my_2d_array**."
   ]
  },
  {
   "cell_type": "code",
   "execution_count": 103,
   "metadata": {},
   "outputs": [
    {
     "name": "stdout",
     "output_type": "stream",
     "text": [
      "[1. 1. 1. 1.]\n",
      "1\n",
      "[1 2 3 4]\n",
      "1\n"
     ]
    }
   ],
   "source": [
    "x = np.ones(4)\n",
    "print(x)\n",
    "print(x.ndim)\n",
    "my_array = np.arange(1,5)\n",
    "print(my_array)\n",
    "print(my_array.ndim)\n",
    "my_resized_array = np.resize(np.arange(1,5),(2,4))\n",
    "my_2d_array = np.arange(1,9).reshape(2,4)"
   ]
  },
  {
   "cell_type": "code",
   "execution_count": 104,
   "metadata": {},
   "outputs": [
    {
     "name": "stdout",
     "output_type": "stream",
     "text": [
      "[1. 2. 3. 4. 1. 1. 1. 1.]\n",
      "[[1 2 3 4]\n",
      " [1 2 3 4]\n",
      " [5 6 7 8]]\n",
      "[[1 2 3 4]\n",
      " [1 2 3 4]\n",
      " [1 2 3 4]\n",
      " [5 6 7 8]]\n",
      "[[1 2 3 4 1 2 3 4]\n",
      " [1 2 3 4 5 6 7 8]]\n",
      "[[1 2 3 4 1 2 3 4]\n",
      " [1 2 3 4 5 6 7 8]]\n",
      "[[1 2 3 4 1 2 3 4]\n",
      " [1 2 3 4 5 6 7 8]]\n"
     ]
    }
   ],
   "source": [
    "# Concatentate `my_array` and `x`\n",
    "print(np.concatenate((my_array, x)))\n",
    "\n",
    "# Stack arrays row-wise\n",
    "print(np.vstack((my_array, my_2d_array)))\n",
    "\n",
    "# Stack arrays row-wise\n",
    "print(np.r_[my_resized_array, my_2d_array])\n",
    "\n",
    "# Stack arrays horizontally\n",
    "print(np.hstack((my_resized_array, my_2d_array)))\n",
    "\n",
    "# Stack arrays column-wise\n",
    "print(np.column_stack((my_resized_array, my_2d_array)))\n",
    "\n",
    "# Stack arrays column-wise\n",
    "print(np.c_[my_resized_array, my_2d_array])"
   ]
  },
  {
   "cell_type": "markdown",
   "metadata": {},
   "source": [
    "You’ll note a few things as you go through the functions:\n",
    "* The number of dimensions needs to be the same if you want to concatenate two arrays with **np.concatenate()**. As such, if you want to concatenate an array with **my_array**, which is 1-D, you'll need to make sure that the second array that you have, is also 1-D.\n",
    "* With **np.vstack()**, you effortlessly combine **my_array** with **my_2d_array**. You just have to make sure that, as you’re stacking the arrays row-wise, that the number of columns in both arrays is the same. As such, you could also add an array with shape **(2,4)** or **(3,4)** to **my_2d_array**, as long as the number of columns matches. Stated differently, the arrays must have the same shape along all but the first axis. The same holds also for when you want to use **np.r[].**\n",
    "* For **np.hstack()**, you have to make sure that the number of dimensions is the same and that the number of rows in both arrays is the same. That means that you could stack arrays such as **(2,3)** or **(2,4)** to **my_2d_array**, which itself as a shape of **(2,4)**. Anything is possible as long as you make sure that the number of rows matches. This function is still supported by NumPy, but you should prefer **np.concatenate()** or **np.stack()**.\n",
    "* With **np.column_stack()**, you have to make sure that the arrays that you input have the same first dimension. In this case, both shapes are the same, but if my_resized_array were to be **(2,1)** or **(2,)**, the arrays still would have been stacked.\n",
    "* **np.c_[]** is another way to concatenate. Here also, the first dimension of both arrays needs to match.\n",
    "\n",
    "When you have joined arrays, you might also want to split them at some point. Just like you can stack them horizontally, you can also do the same but then vertically. You use **np.hsplit()** and **np.vsplit()**, respectively:"
   ]
  },
  {
   "cell_type": "code",
   "execution_count": 105,
   "metadata": {},
   "outputs": [
    {
     "name": "stdout",
     "output_type": "stream",
     "text": [
      "[array([[1, 2, 3, 4],\n",
      "       [1, 2, 3, 4]]), array([[1, 2, 3, 4],\n",
      "       [5, 6, 7, 8]])]\n",
      "[array([[1, 2, 3, 4, 1, 2, 3, 4]]), array([[1, 2, 3, 4, 5, 6, 7, 8]])]\n"
     ]
    }
   ],
   "source": [
    "my_stacked_array = np.array([[1, 2, 3, 4, 1, 2, 3, 4],\n",
    "                             [1, 2, 3, 4, 5, 6, 7, 8]])\n",
    "\n",
    "# Split `my_stacked_array` horizontally at the 2nd index\n",
    "print(np.hsplit(my_stacked_array, 2))\n",
    "\n",
    "# Split `my_stacked_array` vertically at the 2nd index\n",
    "print(np.vsplit(my_stacked_array, 2))"
   ]
  },
  {
   "cell_type": "markdown",
   "metadata": {},
   "source": [
    "What you need to keep in mind when you’re using both of these split functions is probably the shape of your array. Let’s take the above case as an example: **my_stacked_array** has a shape of **(2,8)**. If you want to select the index at which you want the split to occur, you have to keep the shape in mind."
   ]
  },
  {
   "cell_type": "markdown",
   "metadata": {},
   "source": [
    "# You've reached the end of this tutorial. \n",
    "\n",
    "Congratulations, you have reached the end of this NumPy tutorial! You have covered a lot of ground, so now you have to make sure to retain the knowledge that you have gained. Don’t forget to try and implement what you have learnt by yourselfs!\n",
    "\n",
    "***Thansk for reading! ^^***"
   ]
  }
 ],
 "metadata": {
  "kernelspec": {
   "display_name": "Python 3",
   "language": "python",
   "name": "python3"
  },
  "language_info": {
   "codemirror_mode": {
    "name": "ipython",
    "version": 3
   },
   "file_extension": ".py",
   "mimetype": "text/x-python",
   "name": "python",
   "nbconvert_exporter": "python",
   "pygments_lexer": "ipython3",
   "version": "3.6.5"
  },
  "toc": {
   "base_numbering": 1,
   "nav_menu": {},
   "number_sections": true,
   "sideBar": true,
   "skip_h1_title": false,
   "title_cell": "Table of Contents",
   "title_sidebar": "Contents",
   "toc_cell": false,
   "toc_position": {},
   "toc_section_display": true,
   "toc_window_display": true
  },
  "varInspector": {
   "cols": {
    "lenName": 16,
    "lenType": 16,
    "lenVar": 40
   },
   "kernels_config": {
    "python": {
     "delete_cmd_postfix": "",
     "delete_cmd_prefix": "del ",
     "library": "var_list.py",
     "varRefreshCmd": "print(var_dic_list())"
    },
    "r": {
     "delete_cmd_postfix": ") ",
     "delete_cmd_prefix": "rm(",
     "library": "var_list.r",
     "varRefreshCmd": "cat(var_dic_list()) "
    }
   },
   "position": {
    "height": "872px",
    "left": "1555px",
    "right": "20px",
    "top": "113px",
    "width": "359px"
   },
   "types_to_exclude": [
    "module",
    "function",
    "builtin_function_or_method",
    "instance",
    "_Feature"
   ],
   "window_display": true
  }
 },
 "nbformat": 4,
 "nbformat_minor": 2
}
